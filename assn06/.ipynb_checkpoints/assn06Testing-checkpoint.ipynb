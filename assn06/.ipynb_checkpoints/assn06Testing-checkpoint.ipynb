{
 "cells": [
  {
   "cell_type": "code",
   "execution_count": null,
   "metadata": {},
   "outputs": [],
   "source": []
  },
  {
   "cell_type": "code",
   "execution_count": null,
   "metadata": {},
   "outputs": [],
   "source": []
  },
  {
   "cell_type": "code",
   "execution_count": 11,
   "metadata": {},
   "outputs": [
    {
     "name": "stdout",
     "output_type": "stream",
     "text": [
      "already found\n",
      "already found\n",
      "similar\n",
      "similar\n",
      "already found\n",
      "similar\n",
      "already found\n",
      "similar\n",
      "already found\n",
      "already found\n",
      "already found\n",
      "already found\n",
      "already found\n",
      "inverted\n",
      "already found\n",
      "similar\n",
      "already found\n",
      "already found\n",
      "already found\n",
      "already found\n",
      "already found\n",
      "already found\n",
      "already found\n",
      "similar\n",
      "already found\n",
      "already found\n",
      "similar\n",
      "already found\n",
      "similar\n",
      "already found\n",
      "already found\n",
      "similar\n",
      "already found\n",
      "similar\n",
      "already found\n",
      "similar\n",
      "already found\n",
      "already found\n",
      "already found\n",
      "already found\n",
      "already found\n",
      "already found\n",
      "already found\n",
      "similar\n",
      "already found\n",
      "already found\n",
      "already found\n",
      "already found\n",
      "similar\n",
      "already found\n",
      "already found\n",
      "similar\n",
      "already found\n",
      "similar\n",
      "already found\n",
      "inverted\n",
      "already found\n",
      "already found\n",
      "already found\n",
      "similar\n",
      "already found\n",
      "already found\n",
      "already found\n",
      "already found\n",
      "already found\n",
      "similar\n",
      "already found\n",
      "similar\n",
      "already found\n",
      "already found\n",
      "similar\n",
      "already found\n",
      "already found\n",
      "already found\n",
      "already found\n",
      "already found\n",
      "already found\n",
      "already found\n",
      "already found\n",
      "similar\n",
      "already found\n",
      "already found\n",
      "already found\n",
      "already found\n",
      "already found\n",
      "already found\n",
      "already found\n",
      "already found\n",
      "already found\n",
      "already found\n",
      "already found\n",
      "already found\n",
      "already found\n",
      "already found\n",
      "already found\n",
      "['atp1', 'atp4', 'atp6', 'atp8', 'atp9', 'ccmB', 'ccmC', 'ccmFc', 'ccmFn', 'cob', 'cox1', 'cox2', 'cox3', 'matR', 'mttB', 'nad1', 'nad2', 'nad3', 'nad4', 'nad4L', 'nad5', 'nad6', 'nad7', 'nad9', 'rpl16', 'rpl2', 'rpl5', 'rps1', 'rps10', 'rps12', 'rps13', 'rps19', 'rps19-1', 'rps19-2', 'rps3', 'rps4', 'rps7', 'rrn18', 'rrn26', 'rrn5', 'sdh3', 'sdh3-1', 'sdh3-2', 'sdh4', 'similar', 't-element', 'trnC(ACA)-cp', 'trnC(GCA)-1', 'trnC(GCA)-2', 'trnD(GTC)-cp', 'trnE(TTC)', 'trnF(GAA)', 'trnF(GAA)-cp', 'trnG(GCC)-1', 'trnG(GCC)-2', 'trnH(GTG)-cp', 'trnI(CAT)', 'trnK(TTT)', 'trnM(CAT)-cp', 'trnN(GTT)-cp', 'trnP(TGG)', 'trnP(TGG)-cp', 'trnQ(TTG)-1', 'trnQ(TTG)-2', 'trnS(GCT)', 'trnS(TGA)', 'trnW(CCA)-cp', 'trnY(GTA)', 'trnfM(CAT)']\n"
     ]
    }
   ],
   "source": [
    "input = open(\"watermelon.gff\", \"r\")\n",
    "GeneList = []\n",
    "for line in input:\n",
    "    line = line.rstrip(\"\\n\")\n",
    "    line = line.split(\"\\t\")\n",
    "    line = line[8].split(\" \")\n",
    "    if(line[1] == \"similar\"):\n",
    "        print(\"similar\")\n",
    "    if(line[1] == \"inverted\"):\n",
    "        print(\"inverted\")\n",
    "    else:\n",
    "        if line[1] in GeneList:\n",
    "            print(\"already found\")\n",
    "        else:\n",
    "            GeneList.append(line[1])\n",
    "GeneList.sort()\n",
    "print(GeneList)"
   ]
  },
  {
   "cell_type": "code",
   "execution_count": 10,
   "metadata": {},
   "outputs": [
    {
     "name": "stdout",
     "output_type": "stream",
     "text": [
      "['cox1', 'similar', 'trnM(CAT)-cp', 'rpl2', 'rps19-1', 'rps3', 'rpl16', 'atp6', 'sdh3-1', 'trnQ(TTG)-1', 'trnG(GCC)-1', 'rps4', 'nad6', 'atp8', 'cox3', 'sdh4', 'nad2', 'trnY(GTA)', 'trnN(GTT)-cp', 'trnC(GCA)-2', 'nad3', 'rps12', 'cox2', 'nad1', 'atp9', 'atp1', 'trnC(GCA)-1', 'trnE(TTC)', 'trnH(GTG)-cp', 'trnF(GAA)-cp', 'rrn26', 'trnfM(CAT)', 'trnC(ACA)-cp', 'trnI(CAT)', 'trnD(GTC)-cp', 'nad4', 'matR', 'ccmFn', 'rps1', 'trnW(CCA)-cp', 'trnP(TGG)-cp', 'trnK(TTT)', 'ccmB', 'trnG(GCC)-2', 'trnQ(TTG)-2', 'sdh3-2', 'nad9', 'nad5', 'ccmFc', 'rpl5', 'cob', 'rps7', 'trnP(TGG)', 'trnF(GAA)', 'trnS(GCT)', 'rrn5', 'rrn18', 'mttB', 'rps13', 'sdh3', 'rps19', 'nad7', 'trnS(TGA)', 't-element', 'ccmC', 'atp4', 'nad4L', 'rps19-2', 'rps10']\n"
     ]
    }
   ],
   "source": [
    "print(GeneList)\n"
   ]
  },
  {
   "cell_type": "code",
   "execution_count": null,
   "metadata": {},
   "outputs": [],
   "source": []
  }
 ],
 "metadata": {
  "kernelspec": {
   "display_name": "Python 3",
   "language": "python",
   "name": "python3"
  },
  "language_info": {
   "codemirror_mode": {
    "name": "ipython",
    "version": 3
   },
   "file_extension": ".py",
   "mimetype": "text/x-python",
   "name": "python",
   "nbconvert_exporter": "python",
   "pygments_lexer": "ipython3",
   "version": "3.7.4"
  }
 },
 "nbformat": 4,
 "nbformat_minor": 2
}
